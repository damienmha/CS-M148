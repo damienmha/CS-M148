{
 "cells": [
  {
   "cell_type": "markdown",
   "id": "17d44d53-b40d-4baf-9879-65d65826eaa1",
   "metadata": {},
   "source": [
    "# ECE M148 Homework 2"
   ]
  },
  {
   "cell_type": "markdown",
   "id": "c4343190-4417-4e13-803d-28bae369543f",
   "metadata": {},
   "source": [
    "## Damien Ha"
   ]
  },
  {
   "cell_type": "markdown",
   "id": "52e7efde-eeb3-419a-8d2c-ba9dc7f2bbf4",
   "metadata": {},
   "source": [
    "### Question 1"
   ]
  },
  {
   "cell_type": "code",
   "execution_count": 1,
   "id": "a9a89b5e-017f-40d7-977a-3f0f0f4317e6",
   "metadata": {},
   "outputs": [
    {
     "name": "stdout",
     "output_type": "stream",
     "text": [
      "K = 1, RMSE = 0.0\n",
      "K = 2, RMSE = 1.241638702145945\n",
      "K = 3, RMSE = 1.3333333333333333\n",
      "K = 6, RMSE = 1.632993161855452\n"
     ]
    },
    {
     "data": {
      "image/png": "[encoded data removed]",
      "text/plain": [
       "<Figure size 432x288 with 1 Axes>"
      ]
     },
     "metadata": {
      "needs_background": "light"
     },
     "output_type": "display_data"
    }
   ],
   "source": [
    "# Code from last time modified to compute mean squared error\n",
    "import numpy as np\n",
    "import matplotlib.pyplot as plt\n",
    "from sklearn.neighbors import KNeighborsRegressor\n",
    "from sklearn.metrics import mean_squared_error\n",
    "import math\n",
    "\n",
    "X = np.array([[1], [2], [3.2], [4], [5], [6]])\n",
    "y = np.array([[1], [4], [6], [3], [2], [2]])\n",
    "\n",
    "X_pred = np.linspace(0, 7, 100).reshape(-1, 1)\n",
    "k_values = [1, 2, 3, 6]\n",
    "\n",
    "plt.scatter(X, y, color = 'blue')\n",
    "for k in k_values:\n",
    "    knn = KNeighborsRegressor(n_neighbors=k)\n",
    "    knn.fit(X, y)\n",
    "    y_pred = knn.predict(X_pred)\n",
    "    plt.plot(X_pred, y_pred, label='K = {}'.format(k))\n",
    "    # new code to computer mean squared error\n",
    "    y_train_pred = knn.predict(X)\n",
    "    rmse = math.sqrt(mean_squared_error(y, y_train_pred))\n",
    "    print('K = {}, RMSE = {}'.format(k, rmse))\n",
    "# this is the same\n",
    "plt.legend()\n",
    "plt.xlabel('x')\n",
    "plt.ylabel('y')\n",
    "plt.title('KNN Regression')\n",
    "plt.show()"
   ]
  },
  {
   "cell_type": "markdown",
   "id": "bd71d62a-9581-4576-924d-43835fea67f1",
   "metadata": {},
   "source": [
    "I would use K = 2, although K = 1 has the lowest RMSE, at 0 it's almost perfectly predicting the values which may suggest overfitting. K = 2 has the next lowest RMSE that isn't 0"
   ]
  },
  {
   "cell_type": "code",
   "execution_count": 2,
   "id": "4e794391-d81b-4f04-902e-4a99ee43fae2",
   "metadata": {},
   "outputs": [
    {
     "name": "stdout",
     "output_type": "stream",
     "text": [
      "K = 1, RMSE = 0.8660254037844386\n",
      "K = 2, RMSE = 0.408248290463863\n",
      "K = 3, RMSE = 1.2360330811826103\n",
      "K = 6, RMSE = 1.3228756555322954\n"
     ]
    }
   ],
   "source": [
    "X_test = np.array([[1.25], [3.4], [4.25]])\n",
    "y_test = np.array([[2], [5], [2.5]])\n",
    "\n",
    "for k in k_values:\n",
    "    knn = KNeighborsRegressor(n_neighbors=k)\n",
    "    knn.fit(X, y)\n",
    "    y_pred = knn.predict(X_test)\n",
    "    rmse = math.sqrt(mean_squared_error(y_test, y_pred))\n",
    "    print('K = {}, RMSE = {}'.format(k, rmse))"
   ]
  },
  {
   "cell_type": "markdown",
   "id": "8ae712d8-d087-43a5-bf42-ca3b39c368a6",
   "metadata": {},
   "source": [
    "I would still use K = 2, it has the lowest RMSE. K = 1 no longer has an RMSE 0 so it's no longer overfitted, but K = 2 has a lower RMSE without being 0"
   ]
  },
  {
   "cell_type": "markdown",
   "id": "5aefb59a-5338-450b-8d26-bf59667516c6",
   "metadata": {},
   "source": [
    "### Question 2"
   ]
  },
  {
   "cell_type": "markdown",
   "id": "b96548f0-a700-4c51-a0c0-54e8fbf9651a",
   "metadata": {},
   "source": [
    "#### a."
   ]
  },
  {
   "cell_type": "markdown",
   "id": "5896782c-d48b-48e0-9ac3-3af3e7e265c6",
   "metadata": {},
   "source": [
    "Partial derivative of the MSE with respect to $\\beta_0$:\n",
    "\n",
    "$\\frac{\\partial}{\\partial \\beta_0} \\frac{1}{n} \\sum_{i=1}^n (y_i - \\beta_0 - \\beta_1 x_i)^2 = \\frac{-2}{n} \\sum_{i=1}^n (y_i - \\beta_0 - \\beta_1 x_i)$\n",
    "\n",
    "Setting equal to zero:\n",
    "\n",
    "$\\sum_{i=1}^n (y_i - \\beta_0 - \\beta_1 x_i) = 0$\n",
    "\n",
    "$\\sum_{i=1}^n y_i - n\\beta_0 - \\beta_1 \\sum_{i=1}^n x_i = 0$\n",
    "\n",
    "$\\sum_{i=1}^n y_i - \\beta_1 \\sum_{i=1}^n x_i = n\\beta_0$\n",
    "\n",
    "$\\frac{1}{n}(\\sum_{i=1}^n y_i - \\beta_1 \\sum_{i=1}^n x_i) = \\beta_0$\n",
    "\n",
    "$\\frac{1}{n}\\sum_{i=1}^n y_i - \\beta_1 \\frac{1}{n}\\sum_{i=1}^n x_i = \\beta_0$\n",
    "\n",
    "$\\beta_0 = \\bar{y} - \\beta_1\\bar{x}$\n",
    "\n",
    "Partial derivative of the MSE with respect to $\\beta_1$:\n",
    "\n",
    "$\\frac{\\partial}{\\partial \\beta_1} \\frac{1}{n} \\sum_{i=1}^n (y_i - \\beta_0 - \\beta_1 x_i)^2 = \\frac{-2}{n} \\sum_{i=1}^n x_i(y_i - \\beta_0 - \\beta_1 x_i)$\n",
    "\n",
    "Setting equal to zero:\n",
    "\n",
    "$\\sum_{i=1}^n x_i (y_i - \\beta_0 - \\beta_1 x_i) = 0$\n",
    "\n",
    "(given $\\beta_0 = \\bar{y} - \\beta_1\\bar{x}$)\n",
    "\n",
    "$\\sum_{i=1}^n x_i (y_i - \\bar{y} + \\beta_1 \\bar{x} - \\beta_1 x_i) = 0$\n",
    "\n",
    "$\\sum_{i=1}^n x_i (y_i - \\bar{y}) + \\beta_1 \\bar{x} \\sum_{i=1}^n x_i - \\beta_1 \\sum_{i=1}^n x_i^2 = 0$\n",
    "\n",
    "$\\beta_1 \\sum_{i=1}^n x_i^2 - \\beta_1 \\bar{x} \\sum_{i=1}^n x_i = \\sum_{i=1}^n x_i (y_i - \\bar{y})$\n",
    "\n",
    "$\\beta_1 = \\frac{\\sum_{i=1}^n x_i (y_i - \\bar{y})}{\\sum_{i=1}^nx_i^2 - n\\bar{x}^2}$\n",
    "\n",
    "$\\beta_1 = \\frac{(x_i - \\bar{x})(y_i - \\bar{y})}{\\sum_{i=1}^n(x_i - \\bar{x})^2}$"
   ]
  },
  {
   "cell_type": "markdown",
   "id": "dc5b5112-4b10-4f3e-a17a-82a9c3a3a599",
   "metadata": {},
   "source": [
    "#### b."
   ]
  },
  {
   "cell_type": "code",
   "execution_count": 3,
   "id": "8431dd52-5e43-4c28-afda-6d2a3661400a",
   "metadata": {},
   "outputs": [
    {
     "name": "stdout",
     "output_type": "stream",
     "text": [
      "Beta0: [0.25]\n",
      "Beta1: [0.85]\n",
      "R-squared: 0.9796610169491525\n"
     ]
    }
   ],
   "source": [
    "from sklearn.linear_model import LinearRegression\n",
    "from sklearn.metrics import r2_score\n",
    "\n",
    "X = np.array([[1], [2], [3], [4]])\n",
    "y = np.array([[1], [2], [3], [3.5]])\n",
    "\n",
    "lm = LinearRegression()\n",
    "lm.fit(X, y)\n",
    "\n",
    "beta0 = lm.intercept_\n",
    "beta1 = lm.coef_[0]\n",
    "\n",
    "print(\"Beta0:\", beta0)\n",
    "print(\"Beta1:\", beta1)\n",
    "\n",
    "y_pred = lm.predict(X)\n",
    "r2 = r2_score(y, y_pred)\n",
    "\n",
    "print(\"R-squared:\", r2)"
   ]
  },
  {
   "cell_type": "markdown",
   "id": "a805aa42-9bc7-4a7d-8fb4-867109dafc3c",
   "metadata": {},
   "source": [
    "$\\beta_1$ represents the slope of the regression line, or rate of change in y with respect to x. In this case, this means with a 1 unit increase in x we expect a 0.85 increase in y"
   ]
  },
  {
   "cell_type": "markdown",
   "id": "4e06b076-4536-422a-b9ff-3b80e42897d4",
   "metadata": {},
   "source": [
    "### Question 3"
   ]
  },
  {
   "cell_type": "markdown",
   "id": "04c1081c-51ed-4f44-a3b9-31315fd1b009",
   "metadata": {},
   "source": [
    "#### a."
   ]
  },
  {
   "cell_type": "markdown",
   "id": "a7d4c65a-7ee2-419a-bea9-eedaae967e5a",
   "metadata": {},
   "source": [
    "One hot encoding is a technique where we use numbers to represent categorical variables so machine learning algorithms can process them. Each categorical feature is represented as a vector with length of the number of categories in that feature. We can use it with algorithms that are unable to directly process categorical data"
   ]
  },
  {
   "cell_type": "markdown",
   "id": "2fa0cf3b-fb78-4380-b334-b9eccaa0730b",
   "metadata": {},
   "source": [
    "#### b."
   ]
  },
  {
   "cell_type": "markdown",
   "id": "b8541cf9-5dbf-4b72-829e-bf8d34b3e42d",
   "metadata": {},
   "source": [
    "i. Appropriate, this is a categorical feature and has a limited number of possible values\n",
    "\n",
    "ii. Not appropriate, this is a numerical feature\n",
    "\n",
    "iii. Appropriate, this is a categorical feature and has a limited number of possible values\n",
    "\n",
    "iv. Not appropriate, each homeowner owns only one home so this won't be giving useful information for prediction or classification purposes\n",
    "\n",
    "v. Not appropriate, this is a numerical feature"
   ]
  },
  {
   "cell_type": "markdown",
   "id": "2cf153e2-2ef4-466f-83d5-f0f06425e6f7",
   "metadata": {},
   "source": [
    "### Question 4"
   ]
  },
  {
   "cell_type": "markdown",
   "id": "e269ea57-f0a0-41cc-8547-03c605e02a86",
   "metadata": {},
   "source": [
    "#### a."
   ]
  },
  {
   "cell_type": "markdown",
   "id": "c8e26e06-8a6c-4f93-aadf-420ef19799f0",
   "metadata": {},
   "source": [
    "This graph is overfitted, it too closely captures the position of each point and may not be able to generalize and predict other new data."
   ]
  },
  {
   "cell_type": "markdown",
   "id": "64ce2433-2d93-44be-a322-4d63f3bf08a2",
   "metadata": {},
   "source": [
    "#### b."
   ]
  },
  {
   "cell_type": "markdown",
   "id": "d6390dcb-6337-41df-99a5-9ea2101aaaf3",
   "metadata": {},
   "source": [
    "This graph is a good fit as it follows the general trend of the data without overfitting by trying to hit every data point, so it is accurate yet generalized enough to be valuable for prediction"
   ]
  },
  {
   "cell_type": "markdown",
   "id": "bc1bcc15-7e13-4bbc-ac1b-835d627b9d8c",
   "metadata": {},
   "source": [
    "#### c."
   ]
  },
  {
   "cell_type": "markdown",
   "id": "60ade716-f552-412c-b28d-2fccaaf3ad4a",
   "metadata": {},
   "source": [
    "This graph is underfitted. It's too generalized to accurately make predictions for more data"
   ]
  },
  {
   "cell_type": "markdown",
   "id": "083723c4-c5b8-4b8d-9fd3-5342472c9f95",
   "metadata": {},
   "source": [
    "### Question 5"
   ]
  },
  {
   "cell_type": "markdown",
   "id": "e5298082-010d-4c00-bcf9-842ebfd0ea56",
   "metadata": {},
   "source": [
    "#### a."
   ]
  },
  {
   "cell_type": "markdown",
   "id": "1dcd773d-6634-44c4-842c-bb5ba8ecb46c",
   "metadata": {},
   "source": [
    "False. Linear regression can be solved by minimizing MSE, which is a method called ordinary least squares. Trying all possible values is too computationally expensive"
   ]
  },
  {
   "cell_type": "markdown",
   "id": "7e49b4b6-3f07-400a-8ce4-ce9358fe37fa",
   "metadata": {},
   "source": [
    "#### b."
   ]
  },
  {
   "cell_type": "markdown",
   "id": "057036d2-a277-417f-9a8d-53489208d2e9",
   "metadata": {},
   "source": [
    "False. A model is overfitted when training error is significantly smaller than testing error"
   ]
  },
  {
   "cell_type": "markdown",
   "id": "7881488d-072d-4e70-b932-624961cf71f0",
   "metadata": {},
   "source": [
    "#### c."
   ]
  },
  {
   "cell_type": "markdown",
   "id": "2106be2c-add4-44ae-a0d1-fd070d3e1ae8",
   "metadata": {},
   "source": [
    "True. $R^2$ is a measure of how well a regression model fits the data and takes values between 0 and 1, where closer 1 indicates the model fits the data perfectly"
   ]
  },
  {
   "cell_type": "markdown",
   "id": "b750eb6a-5bd2-4352-a662-1f15bfda26b2",
   "metadata": {},
   "source": [
    "#### d."
   ]
  },
  {
   "cell_type": "markdown",
   "id": "e57aa852-7a62-472f-a76f-d9b8d3d203c0",
   "metadata": {},
   "source": [
    "False. In fact it can be thought of as the otherway around. Multi-linear regression is a generalization of simple linear regression with multiple independent variables, and polynomical regression can be thought of as a case of multi-linear regression where the independent variables are polynomial terms"
   ]
  },
  {
   "cell_type": "markdown",
   "id": "ba02d0a8-fd84-40fa-8277-24e1cb3384db",
   "metadata": {},
   "source": [
    "#### e."
   ]
  },
  {
   "cell_type": "markdown",
   "id": "76f8cd27-9df1-433b-a315-bc1f2462de74",
   "metadata": {},
   "source": [
    "False. KNN is more likely to overfit with small K as the model will become more complex and capture noise, whereas with larger K it will be simpler and more general"
   ]
  }
 ],
 "metadata": {
  "kernelspec": {
   "display_name": "Python 3 (ipykernel)",
   "language": "python",
   "name": "python3"
  },
  "language_info": {
   "codemirror_mode": {
    "name": "ipython",
    "version": 3
   },
   "file_extension": ".py",
   "mimetype": "text/x-python",
   "name": "python",
   "nbconvert_exporter": "python",
   "pygments_lexer": "ipython3",
   "version": "3.9.7"
  }
 },
 "nbformat": 4,
 "nbformat_minor": 5
}
