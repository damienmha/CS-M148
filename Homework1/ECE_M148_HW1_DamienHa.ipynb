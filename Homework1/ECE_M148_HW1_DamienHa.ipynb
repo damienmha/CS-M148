{
 "cells": [
  {
   "cell_type": "markdown",
   "id": "e63868e5-1db2-4016-8afa-e824f32aca03",
   "metadata": {},
   "source": [
    "# ECE M148 Homework 1"
   ]
  },
  {
   "cell_type": "markdown",
   "id": "c7407f22-74e9-49f5-816e-9ff1785a9122",
   "metadata": {},
   "source": [
    "## Damien Ha"
   ]
  },
  {
   "cell_type": "markdown",
   "id": "594c804c-0283-47a4-912b-809a2dfd76da",
   "metadata": {},
   "source": [
    "### Question 1"
   ]
  },
  {
   "cell_type": "code",
   "execution_count": 1,
   "id": "8a43f005-1703-4d34-a680-a5d66c6e382e",
   "metadata": {},
   "outputs": [
    {
     "name": "stdout",
     "output_type": "stream",
     "text": [
      "The mean is 5\n",
      "The median is 5\n"
     ]
    }
   ],
   "source": [
    "import statistics\n",
    "A = [1, 1, 5, 9, 9]\n",
    "print(\"The mean is\", statistics.mean(A))\n",
    "print(\"The median is\", statistics.median(A))"
   ]
  },
  {
   "cell_type": "code",
   "execution_count": 2,
   "id": "f6584c16-1170-428e-95ab-864f89217af6",
   "metadata": {},
   "outputs": [
    {
     "name": "stdout",
     "output_type": "stream",
     "text": [
      "The mean is 6\n",
      "The median is 7.0\n"
     ]
    }
   ],
   "source": [
    "B = [1, 1, 5, 9, 9, 11]\n",
    "print(\"The mean is\", statistics.mean(B))\n",
    "print(\"The median is\", statistics.median(B))"
   ]
  },
  {
   "cell_type": "markdown",
   "id": "8fa4ed8f-ae12-4a5f-aaa6-70ca3dfe5419",
   "metadata": {},
   "source": [
    "Overall, A and B seem to have similar centers, with B's mean and median being slightly higher perhaps suggesting B is slightly higher overall. This is consisten with A and B being nearly identical with the exception of B including the value 11 in addition to all the values in A."
   ]
  },
  {
   "cell_type": "markdown",
   "id": "90edbeed-feb0-40cb-ba88-de95ca045025",
   "metadata": {},
   "source": [
    "### Question 2"
   ]
  },
  {
   "cell_type": "markdown",
   "id": "f384c460-4a36-4e3f-84f1-66788803bac9",
   "metadata": {},
   "source": [
    "a.) With random sampling every member of the population has an equal chance of being selected, and it can be very easy to implement which is advantageous. A disadvantage is that, depending on the diversity of the population, the sample may not be representative of the population and there could be bias if the frame of the sample is not representative of the population\n",
    "\n",
    "b.) Stratified sampling is advantageous in that it ensures relevant subgroups within the population are represented in the data. However, it requires prior knowledge of the population's characteristics and could be time consuming to implement, which could be disadvantageous\n",
    "\n",
    "c.) Systematic sampling can be more efficient than random sampling and is fairy easy to implement. However, if there's a certain systematic pattern throughout the population, it can result in unrepresentative or biased samples.\n",
    "\n",
    "d.) Cluster sampling can be effective in gathering good data when the population is very diverse and widepread. Howecer, if the clusters are not well defined then they may not be represetative of the population."
   ]
  },
  {
   "cell_type": "markdown",
   "id": "94461328-f83d-4876-ad82-b611e6149bfc",
   "metadata": {},
   "source": [
    "### Question 3"
   ]
  },
  {
   "cell_type": "markdown",
   "id": "78cf47d6-771c-4aca-9b14-4e82cc34b7aa",
   "metadata": {},
   "source": [
    "1.) One strategy is to completely remove the values from the data, which is quick and easy to implement. However, it may result in a loss of information and bias depending on the randomness of the deleted data. \n",
    "\n",
    "2.) Another strategy is to replace the missing values with the mean, the mode, or some other value reflective of the data. This strategy should preserve the size of the data and keep the accuracy of the model. However, if the values we replace the nulls with are not reflective of the true value, we may introduce bias.\n",
    "\n",
    "3.) A third strategy could be to predict the missing values based off the available data using some type of regression, machine learning model, or algorithm, which should help maintain or improve the accuracy and preserve the correlations between variables. However, this takes much more time and computation, and may result in overfitting.\n",
    "\n",
    "4.) Finally, one could assign \"missing\" or \"unknown\" in place of all the null values. Thus, the sample size is maintained and there is no loss of information. However if null values account for a large portion of thr data or if there's some particular pattern in the null values, then this approach would be inappropriate and might not give us accurate information."
   ]
  },
  {
   "cell_type": "markdown",
   "id": "7b4d010c-f891-4848-9be7-db69178e5fb6",
   "metadata": {},
   "source": [
    "### Question 4"
   ]
  },
  {
   "cell_type": "markdown",
   "id": "d05248ef-4ec3-427f-aa55-368b11f918c8",
   "metadata": {},
   "source": [
    "a.) This is an example of convenience bias. Bob is only asking his wealthy CEO friends who are easily accessible to him as a fellow CEO rather than gathering data that will be representative of the population\n",
    "\n",
    "b.) This is an example of response bias. Because of the phrasing of Sally's question, students will likely feel pressured to say they're doing well and not want to admit if they're doing poorly or failing, and thus will craft their responses accordingly.\n",
    "\n",
    "c.) This is an example of voluntary bias. People can choose whether or not to participate in the survey voluntarily which can impact the results. For example, more opinionated people might be more likely to respond, indifferent/ambivalnet people likely won't respond."
   ]
  },
  {
   "cell_type": "markdown",
   "id": "c65f53d8-c4d0-4ab2-99c8-0dbc4838b879",
   "metadata": {},
   "source": [
    "### Question 5"
   ]
  },
  {
   "cell_type": "code",
   "execution_count": 8,
   "id": "92119b73-c450-4c64-b67b-3697427733bb",
   "metadata": {},
   "outputs": [
    {
     "data": {
      "image/png": "[encoded data removed]",
      "text/plain": [
       "<Figure size 432x288 with 1 Axes>"
      ]
     },
     "metadata": {
      "needs_background": "light"
     },
     "output_type": "display_data"
    },
    {
     "data": {
      "image/png": "[encoded data removed]",
      "text/plain": [
       "<Figure size 432x288 with 1 Axes>"
      ]
     },
     "metadata": {
      "needs_background": "light"
     },
     "output_type": "display_data"
    }
   ],
   "source": [
    "import numpy as np\n",
    "import matplotlib.pyplot as plt\n",
    "from sklearn.neighbors import KNeighborsRegressor\n",
    "\n",
    "X = np.array([[1], [2], [3.2], [4], [5], [6]])\n",
    "y = np.array([[1], [4], [6], [3], [2], [2]])\n",
    "\n",
    "plt.xlim(0, 7)\n",
    "plt.ylim(0, 7)\n",
    "plt.scatter(X, y, color='blue')\n",
    "plt.title('KNN Regression')\n",
    "plt.show()\n",
    "\n",
    "X_pred = np.linspace(0, 7, 100).reshape(-1, 1)\n",
    "k_values = [1, 2, 3, 6]\n",
    "\n",
    "plt.scatter(X, y, color = 'blue')\n",
    "for k in k_values:\n",
    "    knn = KNeighborsRegressor(n_neighbors=k)\n",
    "    knn.fit(X, y)\n",
    "    y_pred = knn.predict(X_pred)\n",
    "    plt.plot(X_pred, y_pred, label='K = {}'.format(k))\n",
    "plt.legend()\n",
    "plt.xlabel('x')\n",
    "plt.ylabel('y')\n",
    "plt.title('KNN Regression')\n",
    "plt.show()"
   ]
  },
  {
   "cell_type": "markdown",
   "id": "6da05c2f-226e-40b8-8ef4-29ee53d9e8c7",
   "metadata": {},
   "source": [
    "In this case, the regression line for K=1 follows the training data very closely, whereas larger values like K=6 have a regression line that is much more general and smooth. When K=1, we may overfit the the model whereas with larger K, we will have a more general model that won't be overly influenced by any one point, so K=1 is not necessarily better. However, large K is not always better either. If it is too large, we may not be able to accurately capture important patterns or trends in the data. The optimal K will likely depend on the patterns and complexity of the data we're dealing with. \n",
    "\n",
    "The KNN performing regression on all x < 1 does not seem to be a good idea because this lies outside of the range of our training data, and with KNN we're assuming the new points are similar to the training points. Thus predictions for data outside the range of the training data will be unreliable."
   ]
  }
 ],
 "metadata": {
  "kernelspec": {
   "display_name": "Python 3 (ipykernel)",
   "language": "python",
   "name": "python3"
  },
  "language_info": {
   "codemirror_mode": {
    "name": "ipython",
    "version": 3
   },
   "file_extension": ".py",
   "mimetype": "text/x-python",
   "name": "python",
   "nbconvert_exporter": "python",
   "pygments_lexer": "ipython3",
   "version": "3.9.7"
  }
 },
 "nbformat": 4,
 "nbformat_minor": 5
}
