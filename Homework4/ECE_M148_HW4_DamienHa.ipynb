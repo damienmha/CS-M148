{
 "cells": [
  {
   "cell_type": "markdown",
   "id": "9b605097-7047-4b57-95e2-2d61dfdea04e",
   "metadata": {},
   "source": [
    "# ECE M148 Homework 4"
   ]
  },
  {
   "cell_type": "markdown",
   "id": "63e4e547-5752-4f93-b27f-8dcc9fb2f7da",
   "metadata": {},
   "source": [
    "## Damien Ha, UID 905539967"
   ]
  },
  {
   "cell_type": "markdown",
   "id": "6df9ec12-7952-4b6b-9278-6bfa9bd8cf42",
   "metadata": {},
   "source": [
    "### Question 1"
   ]
  },
  {
   "cell_type": "markdown",
   "id": "d07c4c3b-2329-4bf2-a930-fb11c6b17600",
   "metadata": {},
   "source": [
    "### Part A\n",
    "False Positive: $\\frac{10}{25 + 10} = \\frac{10}{35} = \\frac{2}{7}$\n",
    "\n",
    "False Negative: $\\frac{9}{36 + 9} = \\frac{9}{45} = \\frac{1}{5}$"
   ]
  },
  {
   "cell_type": "markdown",
   "id": "e962bb9c-247d-4378-aafa-4ff147eede45",
   "metadata": {},
   "source": [
    "#### Part B\n",
    "If we increase t, then less samples will be classified as positive. Both true positives and false positives would then decrease, while both true negatives and false negatives would increase."
   ]
  },
  {
   "cell_type": "markdown",
   "id": "ee26085d-bc95-4a80-952b-383a789ed411",
   "metadata": {},
   "source": [
    "### Problem 2\n",
    "\n",
    "A: fire occurs in kitchen\n",
    "B: smoke detector sets off alarm\n",
    "\n",
    "P(A) = 0.01\n",
    "P(B|A) = 0.99\n",
    "P(B|A') = 0.10"
   ]
  },
  {
   "cell_type": "markdown",
   "id": "d4153810-5091-4e4b-97df-775a30fdd125",
   "metadata": {},
   "source": [
    "#### Part A\n",
    "$ P(B) = P(B \\mid A) * P(A) + P(B \\mid A') * P(A')$\n",
    "\n",
    "$= 0.99 * 0.01 + 0.10 * (1 - 0.01)$\n",
    "\n",
    "$= 0.0099 + 0.099$\n",
    "\n",
    "$= 0.1089$"
   ]
  },
  {
   "cell_type": "markdown",
   "id": "e66f2ccb-58ca-4287-acf5-d2ad73d21654",
   "metadata": {},
   "source": [
    "#### Part B\n",
    "\n",
    "$ P(A \\mid B) = \\frac{P(B \\mid A) * P(A)}{P(B)}$\n",
    "\n",
    "$ = \\frac{0.99 * 0.01}{0.1089}$\n",
    "\n",
    "$ = \\frac{0.0099}{0.1089}$\n",
    "\n",
    "$ \\approx 0.0907 $"
   ]
  },
  {
   "cell_type": "markdown",
   "id": "5042e8ea-fd9a-4a26-a88a-427994d1e03a",
   "metadata": {},
   "source": [
    "#### Part C\n",
    "Admittedly this smoke detector has a high probability of sounding an alarn when there is a fire at 99%, but it also has a somewhat high rate of giving alarms when there is not a fire as we see in part b. Given this, it might be worth replacing this alarm that does not have as high a rate of false positives if we assume false fire alarms are considered a major inconvenience."
   ]
  },
  {
   "cell_type": "markdown",
   "id": "b171fced-ffff-4a79-9bca-2f44d67c839c",
   "metadata": {},
   "source": [
    "### Problem 3\n",
    "$\\frac{dL(\\beta)}{d\\beta_j} = \\sum_{i=1}^n (\\frac{1}{1 + e^{-\\beta^Tx_i}} - y_i)x_{ij}$\n",
    "\n",
    "$L(\\beta) = - \\sum_{i=1}^n (y_i log(1 + e^{-\\beta^Tx_i}) + (1 - y_i) log(\\frac{1}{1 - e^{-\\beta^Tx_i}}))$\n",
    "\n",
    "$\\frac{dL(\\beta)}{d\\beta_j} = - \\sum_{i=1}^n (y_i \\frac{d}{d\\beta_j} log(1 + e^{-\\beta^Tx_i}) + (1 - y_i) \\frac{d}{d\\beta_j}log(\\frac{1}{1 + e^{-\\beta^Tx_i}}))$\n",
    "\n",
    "and we get $= \\sum_{i=1}^n((\\frac{1}{1 + e ^{\\beta^Tx_i}})x_{ij})$\n",
    "\n",
    "Because $\\frac{d}{d\\beta_j} log(1 + e^{-\\beta^Tx_i}) = -x_{ij}(\\frac{1}{1 + e ^{\\beta^Tx_i}})$\n",
    "\n",
    "and $\\frac{d}{d\\beta_j} log(1 - e^{-\\beta^Tx_i}) = x_{ij}(\\frac{1}{1 + e ^{\\beta^Tx_i}})$"
   ]
  },
  {
   "cell_type": "markdown",
   "id": "d1174050-cf84-4764-ab7d-53250fc38116",
   "metadata": {},
   "source": [
    "### Problem 4"
   ]
  },
  {
   "cell_type": "markdown",
   "id": "0c74ea5f-c3b9-49e0-bc2e-abffd58937c4",
   "metadata": {},
   "source": [
    "#### Part A\n",
    "In one-vs-all, a binary classification model is trained for each class seperately, testing if it is in or not in the class\n",
    "\n",
    "Advantages: It's simple and easy to implement, and can handle class imbalance\n",
    "\n",
    "Disadvantages: It's complex when there is a large number of cases and doesn't handle cases with overlap between classes well"
   ]
  },
  {
   "cell_type": "markdown",
   "id": "123a8455-b2d6-41b8-af00-b82efe956688",
   "metadata": {
    "jp-MarkdownHeadingCollapsed": true,
    "tags": []
   },
   "source": [
    "#### Part B\n",
    "In all-vs-all, a binary classificantion model is trained on every pair of classes so it can distinguish between every possible pair.\n",
    "\n",
    "Advantages: It handles cases with overlap between classes well, better than one-vs-all, and can be better for large numbers of cases\n",
    "\n",
    "Disadvantages: It is computationally expensive due to training classifiers for every single pair"
   ]
  },
  {
   "cell_type": "markdown",
   "id": "a53fcc60-55fc-472c-bc34-6a74f1ac14ec",
   "metadata": {},
   "source": [
    "### Problem 5"
   ]
  },
  {
   "cell_type": "markdown",
   "id": "ce465785-8add-4f26-887a-5291065f4aeb",
   "metadata": {},
   "source": [
    "#### Part A\n",
    "True. Positive predicted values is true positive predictions over total positive predictions, which is the probability a sample is actually positive given that the model classified it as positive"
   ]
  },
  {
   "cell_type": "markdown",
   "id": "893f3bc0-20ae-4cbb-b4ad-470d63a47842",
   "metadata": {
    "jp-MarkdownHeadingCollapsed": true,
    "tags": []
   },
   "source": [
    "#### Part B\n",
    "False, for multinomial logistic regression with a dataset of 1 feature and K possible class labels, the number of learnable parameters $B_{j, i}$ is K-1. In this case this would be 4 - 1 = 3"
   ]
  },
  {
   "cell_type": "markdown",
   "id": "3a4bf14d-07cf-4036-830c-6d4b4f4e2f3a",
   "metadata": {},
   "source": [
    "#### Part C\n",
    "True, when modeled as a quadratic it is not linear so it allows for a non-linear decision boundary"
   ]
  },
  {
   "cell_type": "markdown",
   "id": "42c54872-44a2-4bec-afc1-a44970b08218",
   "metadata": {},
   "source": [
    "#### Part D\n",
    "False. Test accuracy alone is not enough, in this case Type I error (rate of false positives) is not considered"
   ]
  },
  {
   "cell_type": "markdown",
   "id": "1b61c9f9-5f3e-4ace-b0c3-799bf2f82825",
   "metadata": {},
   "source": [
    "#### Part E\n",
    "True, the confusion matrix will have dominant values on the diagonal when the model is correctly predicting instances of each class"
   ]
  }
 ],
 "metadata": {
  "kernelspec": {
   "display_name": "Python 3 (ipykernel)",
   "language": "python",
   "name": "python3"
  },
  "language_info": {
   "codemirror_mode": {
    "name": "ipython",
    "version": 3
   },
   "file_extension": ".py",
   "mimetype": "text/x-python",
   "name": "python",
   "nbconvert_exporter": "python",
   "pygments_lexer": "ipython3",
   "version": "3.9.7"
  }
 },
 "nbformat": 4,
 "nbformat_minor": 5
}
